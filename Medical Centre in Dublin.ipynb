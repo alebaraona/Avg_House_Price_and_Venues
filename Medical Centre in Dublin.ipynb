{
 "cells": [
  {
   "cell_type": "markdown",
   "metadata": {},
   "source": [
    "# Medical Centre in Dublin\n",
    "\n",
    "## Background\n",
    "As a recent Dublin resident, it's hard to find a medical centre that is not full of patients and accepts to attend you, and most of the walk-in clinics are in the city centre. In case of sickness many people need to go straight to hospitals and travel to downtown in order to find a doctor. Thus, medical centres can be a profitable business in the city.\n",
    "\n",
    "The project's goal is to find out what is the best district to open a medical centre.\n",
    "\n",
    "## Data Source\n",
    "The data will be obtained from scrapping the website https://en.wikipedia.org/wiki/List_of_Dublin_postal_districts and the coordinates will acquired from geocoder.\n",
    "\n",
    "Four Square API will be used to get existing medical centre in the districts of Dublin."
   ]
  },
  {
   "cell_type": "code",
   "execution_count": null,
   "metadata": {},
   "outputs": [],
   "source": []
  }
 ],
 "metadata": {
  "kernelspec": {
   "display_name": "Python",
   "language": "python",
   "name": "conda-env-python-py"
  },
  "language_info": {
   "codemirror_mode": {
    "name": "ipython",
    "version": 3
   },
   "file_extension": ".py",
   "mimetype": "text/x-python",
   "name": "python",
   "nbconvert_exporter": "python",
   "pygments_lexer": "ipython3",
   "version": "3.6.10"
  }
 },
 "nbformat": 4,
 "nbformat_minor": 4
}
